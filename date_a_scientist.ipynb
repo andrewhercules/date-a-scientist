{
 "cells": [
  {
   "cell_type": "code",
   "execution_count": 1,
   "metadata": {},
   "outputs": [],
   "source": [
    "#import relevant libraries\n",
    "import pandas as pd\n",
    "from matplotlib import pyplot as plt\n",
    "import numpy as np"
   ]
  },
  {
   "cell_type": "code",
   "execution_count": 2,
   "metadata": {},
   "outputs": [],
   "source": [
    "#set data_location containing profiles.csv file\n",
    "data_location = \"data/profiles.csv\""
   ]
  },
  {
   "cell_type": "code",
   "execution_count": 3,
   "metadata": {},
   "outputs": [
    {
     "name": "stdout",
     "output_type": "stream",
     "text": [
      "59946\n"
     ]
    }
   ],
   "source": [
    "#import profiles.csv file as a dataframe\n",
    "all_data = pd.read_csv(data_location)\n",
    "print(len(all_data))"
   ]
  },
  {
   "cell_type": "code",
   "execution_count": 4,
   "metadata": {},
   "outputs": [
    {
     "data": {
      "text/html": [
       "<div>\n",
       "<style scoped>\n",
       "    .dataframe tbody tr th:only-of-type {\n",
       "        vertical-align: middle;\n",
       "    }\n",
       "\n",
       "    .dataframe tbody tr th {\n",
       "        vertical-align: top;\n",
       "    }\n",
       "\n",
       "    .dataframe thead th {\n",
       "        text-align: right;\n",
       "    }\n",
       "</style>\n",
       "<table border=\"1\" class=\"dataframe\">\n",
       "  <thead>\n",
       "    <tr style=\"text-align: right;\">\n",
       "      <th></th>\n",
       "      <th>age</th>\n",
       "      <th>body_type</th>\n",
       "      <th>diet</th>\n",
       "      <th>drinks</th>\n",
       "      <th>drugs</th>\n",
       "      <th>education</th>\n",
       "      <th>essay0</th>\n",
       "      <th>essay1</th>\n",
       "      <th>essay2</th>\n",
       "      <th>essay3</th>\n",
       "      <th>essay4</th>\n",
       "      <th>essay5</th>\n",
       "      <th>essay6</th>\n",
       "      <th>essay7</th>\n",
       "      <th>essay8</th>\n",
       "      <th>essay9</th>\n",
       "      <th>ethnicity</th>\n",
       "      <th>height</th>\n",
       "      <th>income</th>\n",
       "      <th>job</th>\n",
       "      <th>last_online</th>\n",
       "      <th>location</th>\n",
       "      <th>offspring</th>\n",
       "      <th>orientation</th>\n",
       "      <th>pets</th>\n",
       "      <th>religion</th>\n",
       "      <th>sex</th>\n",
       "      <th>sign</th>\n",
       "      <th>smokes</th>\n",
       "      <th>speaks</th>\n",
       "      <th>status</th>\n",
       "    </tr>\n",
       "  </thead>\n",
       "  <tbody>\n",
       "    <tr>\n",
       "      <th>0</th>\n",
       "      <td>22</td>\n",
       "      <td>a little extra</td>\n",
       "      <td>strictly anything</td>\n",
       "      <td>socially</td>\n",
       "      <td>never</td>\n",
       "      <td>working on college/university</td>\n",
       "      <td>about me:&lt;br /&gt;\\n&lt;br /&gt;\\ni would love to think that i was some some kind of intellectual:\\neithe...</td>\n",
       "      <td>currently working as an international agent for a freight\\nforwarding company. import, export, d...</td>\n",
       "      <td>making people laugh.&lt;br /&gt;\\nranting about a good salting.&lt;br /&gt;\\nfinding simplicity in complexit...</td>\n",
       "      <td>the way i look. i am a six foot half asian, half caucasian mutt. it\\nmakes it tough not to notic...</td>\n",
       "      <td>books:&lt;br /&gt;\\nabsurdistan, the republic, of mice and men (only book that made me\\nwant to cry), ...</td>\n",
       "      <td>food.&lt;br /&gt;\\nwater.&lt;br /&gt;\\ncell phone.&lt;br /&gt;\\nshelter.</td>\n",
       "      <td>duality and humorous things</td>\n",
       "      <td>trying to find someone to hang out with. i am down for anything\\nexcept a club.</td>\n",
       "      <td>i am new to california and looking for someone to wisper my secrets\\nto.</td>\n",
       "      <td>you want to be swept off your feet!&lt;br /&gt;\\nyou are tired of the norm.&lt;br /&gt;\\nyou want to catch a...</td>\n",
       "      <td>asian, white</td>\n",
       "      <td>75.0</td>\n",
       "      <td>-1</td>\n",
       "      <td>transportation</td>\n",
       "      <td>2012-06-28-20-30</td>\n",
       "      <td>south san francisco, california</td>\n",
       "      <td>doesn&amp;rsquo;t have kids, but might want them</td>\n",
       "      <td>straight</td>\n",
       "      <td>likes dogs and likes cats</td>\n",
       "      <td>agnosticism and very serious about it</td>\n",
       "      <td>m</td>\n",
       "      <td>gemini</td>\n",
       "      <td>sometimes</td>\n",
       "      <td>english</td>\n",
       "      <td>single</td>\n",
       "    </tr>\n",
       "    <tr>\n",
       "      <th>1</th>\n",
       "      <td>35</td>\n",
       "      <td>average</td>\n",
       "      <td>mostly other</td>\n",
       "      <td>often</td>\n",
       "      <td>sometimes</td>\n",
       "      <td>working on space camp</td>\n",
       "      <td>i am a chef: this is what that means.&lt;br /&gt;\\n1. i am a workaholic.&lt;br /&gt;\\n2. i love to cook rega...</td>\n",
       "      <td>dedicating everyday to being an unbelievable badass.</td>\n",
       "      <td>being silly. having ridiculous amonts of fun wherever. being a\\nsmart ass. ohh and i can cook. ;)</td>\n",
       "      <td>NaN</td>\n",
       "      <td>i am die hard christopher moore fan. i don't really watch a lot of\\ntv unless there is humor inv...</td>\n",
       "      <td>delicious porkness in all of its glories.&lt;br /&gt;\\nmy big ass doughboy's sinking into 15 new inche...</td>\n",
       "      <td>NaN</td>\n",
       "      <td>NaN</td>\n",
       "      <td>i am very open and will share just about anything.</td>\n",
       "      <td>NaN</td>\n",
       "      <td>white</td>\n",
       "      <td>70.0</td>\n",
       "      <td>80000</td>\n",
       "      <td>hospitality / travel</td>\n",
       "      <td>2012-06-29-21-41</td>\n",
       "      <td>oakland, california</td>\n",
       "      <td>doesn&amp;rsquo;t have kids, but might want them</td>\n",
       "      <td>straight</td>\n",
       "      <td>likes dogs and likes cats</td>\n",
       "      <td>agnosticism but not too serious about it</td>\n",
       "      <td>m</td>\n",
       "      <td>cancer</td>\n",
       "      <td>no</td>\n",
       "      <td>english (fluently), spanish (poorly), french (poorly)</td>\n",
       "      <td>single</td>\n",
       "    </tr>\n",
       "    <tr>\n",
       "      <th>2</th>\n",
       "      <td>38</td>\n",
       "      <td>thin</td>\n",
       "      <td>anything</td>\n",
       "      <td>socially</td>\n",
       "      <td>NaN</td>\n",
       "      <td>graduated from masters program</td>\n",
       "      <td>i'm not ashamed of much, but writing public text on an online\\ndating site makes me pleasantly u...</td>\n",
       "      <td>i make nerdy software for musicians, artists, and experimenters to\\nindulge in their own weirdne...</td>\n",
       "      <td>improvising in different contexts. alternating between being\\npresent and decidedly outside of a...</td>\n",
       "      <td>my large jaw and large glasses are the physical things people\\ncomment on the most. when suffici...</td>\n",
       "      <td>okay this is where the cultural matrix gets so specific, it's like\\nbeing in the crosshairs.&lt;br ...</td>\n",
       "      <td>movement&lt;br /&gt;\\nconversation&lt;br /&gt;\\ncreation&lt;br /&gt;\\ncontemplation&lt;br /&gt;\\ntouch&lt;br /&gt;\\nhumor</td>\n",
       "      <td>NaN</td>\n",
       "      <td>viewing. listening. dancing. talking. drinking. performing.</td>\n",
       "      <td>when i was five years old, i was known as \"the boogerman\".</td>\n",
       "      <td>you are bright, open, intense, silly, ironic, critical, caring,\\ngenerous, looking for an explor...</td>\n",
       "      <td>NaN</td>\n",
       "      <td>68.0</td>\n",
       "      <td>-1</td>\n",
       "      <td>NaN</td>\n",
       "      <td>2012-06-27-09-10</td>\n",
       "      <td>san francisco, california</td>\n",
       "      <td>NaN</td>\n",
       "      <td>straight</td>\n",
       "      <td>has cats</td>\n",
       "      <td>NaN</td>\n",
       "      <td>m</td>\n",
       "      <td>pisces but it doesn&amp;rsquo;t matter</td>\n",
       "      <td>no</td>\n",
       "      <td>english, french, c++</td>\n",
       "      <td>available</td>\n",
       "    </tr>\n",
       "    <tr>\n",
       "      <th>3</th>\n",
       "      <td>23</td>\n",
       "      <td>thin</td>\n",
       "      <td>vegetarian</td>\n",
       "      <td>socially</td>\n",
       "      <td>NaN</td>\n",
       "      <td>working on college/university</td>\n",
       "      <td>i work in a library and go to school. . .</td>\n",
       "      <td>reading things written by old dead people</td>\n",
       "      <td>playing synthesizers and organizing books according to the library\\nof congress classification s...</td>\n",
       "      <td>socially awkward but i do my best</td>\n",
       "      <td>bataille, celine, beckett. . .&lt;br /&gt;\\nlynch, jarmusch, r.w. fassbender. . .&lt;br /&gt;\\ntwin peaks &amp;a...</td>\n",
       "      <td>NaN</td>\n",
       "      <td>cats and german philosophy</td>\n",
       "      <td>NaN</td>\n",
       "      <td>NaN</td>\n",
       "      <td>you feel so inclined.</td>\n",
       "      <td>white</td>\n",
       "      <td>71.0</td>\n",
       "      <td>20000</td>\n",
       "      <td>student</td>\n",
       "      <td>2012-06-28-14-22</td>\n",
       "      <td>berkeley, california</td>\n",
       "      <td>doesn&amp;rsquo;t want kids</td>\n",
       "      <td>straight</td>\n",
       "      <td>likes cats</td>\n",
       "      <td>NaN</td>\n",
       "      <td>m</td>\n",
       "      <td>pisces</td>\n",
       "      <td>no</td>\n",
       "      <td>english, german (poorly)</td>\n",
       "      <td>single</td>\n",
       "    </tr>\n",
       "    <tr>\n",
       "      <th>4</th>\n",
       "      <td>29</td>\n",
       "      <td>athletic</td>\n",
       "      <td>NaN</td>\n",
       "      <td>socially</td>\n",
       "      <td>never</td>\n",
       "      <td>graduated from college/university</td>\n",
       "      <td>hey how's it going? currently vague on the profile i know, more to\\ncome soon. looking to meet n...</td>\n",
       "      <td>work work work work + play</td>\n",
       "      <td>creating imagery to look at:&lt;br /&gt;\\nhttp://bagsbrown.blogspot.com/&lt;br /&gt;\\nhttp://stayruly.blogsp...</td>\n",
       "      <td>i smile a lot and my inquisitive nature</td>\n",
       "      <td>music: bands, rappers, musicians&lt;br /&gt;\\nat the moment: thee oh sees.&lt;br /&gt;\\nforever: wu-tang&lt;br ...</td>\n",
       "      <td>NaN</td>\n",
       "      <td>NaN</td>\n",
       "      <td>NaN</td>\n",
       "      <td>NaN</td>\n",
       "      <td>NaN</td>\n",
       "      <td>asian, black, other</td>\n",
       "      <td>66.0</td>\n",
       "      <td>-1</td>\n",
       "      <td>artistic / musical / writer</td>\n",
       "      <td>2012-06-27-21-26</td>\n",
       "      <td>san francisco, california</td>\n",
       "      <td>NaN</td>\n",
       "      <td>straight</td>\n",
       "      <td>likes dogs and likes cats</td>\n",
       "      <td>NaN</td>\n",
       "      <td>m</td>\n",
       "      <td>aquarius</td>\n",
       "      <td>no</td>\n",
       "      <td>english</td>\n",
       "      <td>single</td>\n",
       "    </tr>\n",
       "  </tbody>\n",
       "</table>\n",
       "</div>"
      ],
      "text/plain": [
       "   age       body_type               diet    drinks      drugs  \\\n",
       "0   22  a little extra  strictly anything  socially      never   \n",
       "1   35         average       mostly other     often  sometimes   \n",
       "2   38            thin           anything  socially        NaN   \n",
       "3   23            thin         vegetarian  socially        NaN   \n",
       "4   29        athletic                NaN  socially      never   \n",
       "\n",
       "                           education  \\\n",
       "0      working on college/university   \n",
       "1              working on space camp   \n",
       "2     graduated from masters program   \n",
       "3      working on college/university   \n",
       "4  graduated from college/university   \n",
       "\n",
       "                                                                                                essay0  \\\n",
       "0  about me:<br />\\n<br />\\ni would love to think that i was some some kind of intellectual:\\neithe...   \n",
       "1  i am a chef: this is what that means.<br />\\n1. i am a workaholic.<br />\\n2. i love to cook rega...   \n",
       "2  i'm not ashamed of much, but writing public text on an online\\ndating site makes me pleasantly u...   \n",
       "3                                                            i work in a library and go to school. . .   \n",
       "4  hey how's it going? currently vague on the profile i know, more to\\ncome soon. looking to meet n...   \n",
       "\n",
       "                                                                                                essay1  \\\n",
       "0  currently working as an international agent for a freight\\nforwarding company. import, export, d...   \n",
       "1                                                 dedicating everyday to being an unbelievable badass.   \n",
       "2  i make nerdy software for musicians, artists, and experimenters to\\nindulge in their own weirdne...   \n",
       "3                                                            reading things written by old dead people   \n",
       "4                                                                           work work work work + play   \n",
       "\n",
       "                                                                                                essay2  \\\n",
       "0  making people laugh.<br />\\nranting about a good salting.<br />\\nfinding simplicity in complexit...   \n",
       "1    being silly. having ridiculous amonts of fun wherever. being a\\nsmart ass. ohh and i can cook. ;)   \n",
       "2  improvising in different contexts. alternating between being\\npresent and decidedly outside of a...   \n",
       "3  playing synthesizers and organizing books according to the library\\nof congress classification s...   \n",
       "4  creating imagery to look at:<br />\\nhttp://bagsbrown.blogspot.com/<br />\\nhttp://stayruly.blogsp...   \n",
       "\n",
       "                                                                                                essay3  \\\n",
       "0  the way i look. i am a six foot half asian, half caucasian mutt. it\\nmakes it tough not to notic...   \n",
       "1                                                                                                  NaN   \n",
       "2  my large jaw and large glasses are the physical things people\\ncomment on the most. when suffici...   \n",
       "3                                                                    socially awkward but i do my best   \n",
       "4                                                              i smile a lot and my inquisitive nature   \n",
       "\n",
       "                                                                                                essay4  \\\n",
       "0  books:<br />\\nabsurdistan, the republic, of mice and men (only book that made me\\nwant to cry), ...   \n",
       "1  i am die hard christopher moore fan. i don't really watch a lot of\\ntv unless there is humor inv...   \n",
       "2  okay this is where the cultural matrix gets so specific, it's like\\nbeing in the crosshairs.<br ...   \n",
       "3  bataille, celine, beckett. . .<br />\\nlynch, jarmusch, r.w. fassbender. . .<br />\\ntwin peaks &a...   \n",
       "4  music: bands, rappers, musicians<br />\\nat the moment: thee oh sees.<br />\\nforever: wu-tang<br ...   \n",
       "\n",
       "                                                                                                essay5  \\\n",
       "0                                               food.<br />\\nwater.<br />\\ncell phone.<br />\\nshelter.   \n",
       "1  delicious porkness in all of its glories.<br />\\nmy big ass doughboy's sinking into 15 new inche...   \n",
       "2          movement<br />\\nconversation<br />\\ncreation<br />\\ncontemplation<br />\\ntouch<br />\\nhumor   \n",
       "3                                                                                                  NaN   \n",
       "4                                                                                                  NaN   \n",
       "\n",
       "                        essay6  \\\n",
       "0  duality and humorous things   \n",
       "1                          NaN   \n",
       "2                          NaN   \n",
       "3   cats and german philosophy   \n",
       "4                          NaN   \n",
       "\n",
       "                                                                            essay7  \\\n",
       "0  trying to find someone to hang out with. i am down for anything\\nexcept a club.   \n",
       "1                                                                              NaN   \n",
       "2                      viewing. listening. dancing. talking. drinking. performing.   \n",
       "3                                                                              NaN   \n",
       "4                                                                              NaN   \n",
       "\n",
       "                                                                     essay8  \\\n",
       "0  i am new to california and looking for someone to wisper my secrets\\nto.   \n",
       "1                        i am very open and will share just about anything.   \n",
       "2                when i was five years old, i was known as \"the boogerman\".   \n",
       "3                                                                       NaN   \n",
       "4                                                                       NaN   \n",
       "\n",
       "                                                                                                essay9  \\\n",
       "0  you want to be swept off your feet!<br />\\nyou are tired of the norm.<br />\\nyou want to catch a...   \n",
       "1                                                                                                  NaN   \n",
       "2  you are bright, open, intense, silly, ironic, critical, caring,\\ngenerous, looking for an explor...   \n",
       "3                                                                                you feel so inclined.   \n",
       "4                                                                                                  NaN   \n",
       "\n",
       "             ethnicity  height  income                          job  \\\n",
       "0         asian, white    75.0      -1               transportation   \n",
       "1                white    70.0   80000         hospitality / travel   \n",
       "2                  NaN    68.0      -1                          NaN   \n",
       "3                white    71.0   20000                      student   \n",
       "4  asian, black, other    66.0      -1  artistic / musical / writer   \n",
       "\n",
       "        last_online                         location  \\\n",
       "0  2012-06-28-20-30  south san francisco, california   \n",
       "1  2012-06-29-21-41              oakland, california   \n",
       "2  2012-06-27-09-10        san francisco, california   \n",
       "3  2012-06-28-14-22             berkeley, california   \n",
       "4  2012-06-27-21-26        san francisco, california   \n",
       "\n",
       "                                      offspring orientation  \\\n",
       "0  doesn&rsquo;t have kids, but might want them    straight   \n",
       "1  doesn&rsquo;t have kids, but might want them    straight   \n",
       "2                                           NaN    straight   \n",
       "3                       doesn&rsquo;t want kids    straight   \n",
       "4                                           NaN    straight   \n",
       "\n",
       "                        pets                                  religion sex  \\\n",
       "0  likes dogs and likes cats     agnosticism and very serious about it   m   \n",
       "1  likes dogs and likes cats  agnosticism but not too serious about it   m   \n",
       "2                   has cats                                       NaN   m   \n",
       "3                 likes cats                                       NaN   m   \n",
       "4  likes dogs and likes cats                                       NaN   m   \n",
       "\n",
       "                                 sign     smokes  \\\n",
       "0                              gemini  sometimes   \n",
       "1                              cancer         no   \n",
       "2  pisces but it doesn&rsquo;t matter         no   \n",
       "3                              pisces         no   \n",
       "4                            aquarius         no   \n",
       "\n",
       "                                                  speaks     status  \n",
       "0                                                english     single  \n",
       "1  english (fluently), spanish (poorly), french (poorly)     single  \n",
       "2                                   english, french, c++  available  \n",
       "3                               english, german (poorly)     single  \n",
       "4                                                english     single  "
      ]
     },
     "execution_count": 4,
     "metadata": {},
     "output_type": "execute_result"
    }
   ],
   "source": [
    "# set max_columns and max_colwidth to make it easier to see data in DataFrame\n",
    "pd.options.display.max_columns = 60\n",
    "pd.options.display.max_colwidth = 100\n",
    "all_data.head()"
   ]
  },
  {
   "cell_type": "code",
   "execution_count": 5,
   "metadata": {},
   "outputs": [
    {
     "data": {
      "text/plain": [
       "array(['age', 'body_type', 'diet', 'drinks', 'drugs', 'education',\n",
       "       'essay0', 'essay1', 'essay2', 'essay3', 'essay4', 'essay5',\n",
       "       'essay6', 'essay7', 'essay8', 'essay9', 'ethnicity', 'height',\n",
       "       'income', 'job', 'last_online', 'location', 'offspring',\n",
       "       'orientation', 'pets', 'religion', 'sex', 'sign', 'smokes',\n",
       "       'speaks', 'status'], dtype=object)"
      ]
     },
     "execution_count": 5,
     "metadata": {},
     "output_type": "execute_result"
    }
   ],
   "source": [
    "all_data.columns.values"
   ]
  },
  {
   "cell_type": "code",
   "execution_count": 6,
   "metadata": {},
   "outputs": [
    {
     "data": {
      "text/plain": [
       "array(['age', 'body_type', 'diet', 'drinks', 'drugs', 'essay0', 'essay1',\n",
       "       'essay2', 'essay3', 'essay4', 'essay5', 'essay6', 'essay7',\n",
       "       'essay8', 'essay9', 'height', 'sex', 'smokes'], dtype=object)"
      ]
     },
     "execution_count": 6,
     "metadata": {},
     "output_type": "execute_result"
    }
   ],
   "source": [
    "#drop columns that will not be used for project\n",
    "columns_to_drop = [\n",
    "    'education',\n",
    "    'ethnicity',\n",
    "    'job',\n",
    "    'last_online',\n",
    "    'location',\n",
    "    'offspring',\n",
    "    'orientation',\n",
    "    'pets',\n",
    "    'religion',\n",
    "    'sign',\n",
    "    'speaks',\n",
    "    'status',\n",
    "    'income'\n",
    "]\n",
    "all_data.drop(columns_to_drop, axis=1, inplace=True)\n",
    "all_data.columns.values"
   ]
  },
  {
   "cell_type": "code",
   "execution_count": 7,
   "metadata": {},
   "outputs": [
    {
     "data": {
      "text/plain": [
       "age          False\n",
       "body_type     True\n",
       "diet          True\n",
       "drinks        True\n",
       "drugs         True\n",
       "essay0        True\n",
       "essay1        True\n",
       "essay2        True\n",
       "essay3        True\n",
       "essay4        True\n",
       "essay5        True\n",
       "essay6        True\n",
       "essay7        True\n",
       "essay8        True\n",
       "essay9        True\n",
       "height        True\n",
       "sex          False\n",
       "smokes        True\n",
       "dtype: bool"
      ]
     },
     "execution_count": 7,
     "metadata": {},
     "output_type": "execute_result"
    }
   ],
   "source": [
    "#check which columns have NaN values\n",
    "all_data.isna().any()"
   ]
  },
  {
   "cell_type": "code",
   "execution_count": 8,
   "metadata": {},
   "outputs": [],
   "source": [
    "#remove NaNs in essay columns\n",
    "essay_columns_with_nan_values = {\n",
    "    'essay0': '',\n",
    "    'essay1': '',\n",
    "    'essay2': '',\n",
    "    'essay3': '',\n",
    "    'essay4': '',\n",
    "    'essay5': '',\n",
    "    'essay6': '',\n",
    "    'essay7': '',\n",
    "    'essay8': '',\n",
    "    'essay9': ''\n",
    "}\n",
    "all_data.fillna(essay_columns_with_nan_values, inplace = True)"
   ]
  },
  {
   "cell_type": "code",
   "execution_count": 9,
   "metadata": {},
   "outputs": [],
   "source": [
    "#remove NaNs in other columns\n",
    "other_columns_with_nan_values = [\n",
    "    'body_type', \n",
    "    'diet', \n",
    "    'drinks', \n",
    "    'drugs', \n",
    "    'height', \n",
    "    'smokes'\n",
    "]\n",
    "all_data.dropna(subset=other_columns_with_nan_values, inplace=True)"
   ]
  },
  {
   "cell_type": "code",
   "execution_count": 10,
   "metadata": {},
   "outputs": [
    {
     "data": {
      "text/plain": [
       "age          False\n",
       "body_type    False\n",
       "diet         False\n",
       "drinks       False\n",
       "drugs        False\n",
       "essay0       False\n",
       "essay1       False\n",
       "essay2       False\n",
       "essay3       False\n",
       "essay4       False\n",
       "essay5       False\n",
       "essay6       False\n",
       "essay7       False\n",
       "essay8       False\n",
       "essay9       False\n",
       "height       False\n",
       "sex          False\n",
       "smokes       False\n",
       "dtype: bool"
      ]
     },
     "execution_count": 10,
     "metadata": {},
     "output_type": "execute_result"
    }
   ],
   "source": [
    "all_data.isna().any()"
   ]
  },
  {
   "cell_type": "code",
   "execution_count": 11,
   "metadata": {},
   "outputs": [
    {
     "data": {
      "text/plain": [
       "mostly anything        12290\n",
       "anything                4357\n",
       "strictly anything       3341\n",
       "mostly vegetarian       2322\n",
       "mostly other             741\n",
       "strictly vegetarian      632\n",
       "vegetarian               366\n",
       "strictly other           310\n",
       "other                    233\n",
       "mostly vegan             222\n",
       "strictly vegan           160\n",
       "vegan                     86\n",
       "mostly kosher             64\n",
       "mostly halal              36\n",
       "strictly halal            15\n",
       "strictly kosher           14\n",
       "halal                      7\n",
       "kosher                     6\n",
       "Name: diet, dtype: int64"
      ]
     },
     "execution_count": 11,
     "metadata": {},
     "output_type": "execute_result"
    }
   ],
   "source": [
    "# determine value counts for diet responses\n",
    "all_data['diet'].value_counts()"
   ]
  },
  {
   "cell_type": "code",
   "execution_count": 12,
   "metadata": {},
   "outputs": [
    {
     "data": {
      "text/plain": [
       "3    21272\n",
       "1     3320\n",
       "0      468\n",
       "2      142\n",
       "Name: diet_code, dtype: int64"
      ]
     },
     "execution_count": 12,
     "metadata": {},
     "output_type": "execute_result"
    }
   ],
   "source": [
    "# map diet responses to a numeric code:\n",
    "# 0 for vegan\n",
    "# 1 for vegetarian\n",
    "# 2 for religious\n",
    "# 3 for any other response\n",
    "\n",
    "def map_diet_to_code(diet):\n",
    "    if \"vegan\" in diet:\n",
    "        return 0\n",
    "    elif \"vegetarian\" in diet:\n",
    "        return 1\n",
    "    elif \"kosher\" in diet or \"halal\" in diet:\n",
    "        return 2\n",
    "    else:\n",
    "        return 3\n",
    "    \n",
    "all_data['diet_code'] = all_data['diet'].apply(map_diet_to_code)\n",
    "\n",
    "#check that mapping diet responses has worked \n",
    "\n",
    "all_data['diet_code'].value_counts()"
   ]
  },
  {
   "cell_type": "code",
   "execution_count": 13,
   "metadata": {},
   "outputs": [
    {
     "data": {
      "text/plain": [
       "socially       17929\n",
       "rarely          2896\n",
       "often           2162\n",
       "not at all      1789\n",
       "very often       264\n",
       "desperately      162\n",
       "Name: drinks, dtype: int64"
      ]
     },
     "execution_count": 13,
     "metadata": {},
     "output_type": "execute_result"
    }
   ],
   "source": [
    "#determine value counts for drinks\n",
    "all_data['drinks'].value_counts()"
   ]
  },
  {
   "cell_type": "code",
   "execution_count": 14,
   "metadata": {},
   "outputs": [
    {
     "data": {
      "text/plain": [
       "2    17929\n",
       "1     2896\n",
       "3     2162\n",
       "0     1789\n",
       "4      264\n",
       "5      162\n",
       "Name: drinks_code, dtype: int64"
      ]
     },
     "execution_count": 14,
     "metadata": {},
     "output_type": "execute_result"
    }
   ],
   "source": [
    "# map drinks responses to a numeric code:\n",
    "# 0 not at all\n",
    "# 1 rarely\n",
    "# 2 socially\n",
    "# 3 often\n",
    "# 4 very often\n",
    "# 5 desperately\n",
    "\n",
    "drinks_codes = {\n",
    "    \"not at all\": 0,\n",
    "    \"rarely\": 1,\n",
    "    \"socially\": 2,\n",
    "    \"often\": 3,\n",
    "    \"very often\": 4,\n",
    "    \"desperately\": 5\n",
    "}\n",
    "\n",
    "all_data[\"drinks_code\"] = all_data['drinks'].map(drinks_codes)\n",
    "\n",
    "#check that mapping drinks responses has worked \n",
    "\n",
    "all_data['drinks_code'].value_counts()"
   ]
  },
  {
   "cell_type": "code",
   "execution_count": 15,
   "metadata": {},
   "outputs": [
    {
     "data": {
      "text/plain": [
       "never        20339\n",
       "sometimes     4600\n",
       "often          263\n",
       "Name: drugs, dtype: int64"
      ]
     },
     "execution_count": 15,
     "metadata": {},
     "output_type": "execute_result"
    }
   ],
   "source": [
    "#determine value counts for drugs\n",
    "all_data['drugs'].value_counts()"
   ]
  },
  {
   "cell_type": "code",
   "execution_count": 16,
   "metadata": {},
   "outputs": [
    {
     "data": {
      "text/plain": [
       "0    20339\n",
       "1     4600\n",
       "2      263\n",
       "Name: drugs_code, dtype: int64"
      ]
     },
     "execution_count": 16,
     "metadata": {},
     "output_type": "execute_result"
    }
   ],
   "source": [
    "# map drugs responses to a numeric code:\n",
    "# 0 never\n",
    "# 1 sometimes\n",
    "# 2 often\n",
    "\n",
    "drugs_codes = {\n",
    "    \"never\": 0,\n",
    "    \"sometimes\": 1,\n",
    "    \"often\": 2\n",
    "}\n",
    "\n",
    "all_data[\"drugs_code\"] = all_data['drugs'].map(drugs_codes)\n",
    "\n",
    "#check that mapping drugs responses has worked \n",
    "\n",
    "all_data['drugs_code'].value_counts()"
   ]
  },
  {
   "cell_type": "code",
   "execution_count": 17,
   "metadata": {},
   "outputs": [
    {
     "data": {
      "text/plain": [
       "no                20402\n",
       "sometimes          1688\n",
       "when drinking      1429\n",
       "yes                1032\n",
       "trying to quit      651\n",
       "Name: smokes, dtype: int64"
      ]
     },
     "execution_count": 17,
     "metadata": {},
     "output_type": "execute_result"
    }
   ],
   "source": [
    "#determine value counts for smokes\n",
    "all_data['smokes'].value_counts()"
   ]
  },
  {
   "cell_type": "code",
   "execution_count": 18,
   "metadata": {},
   "outputs": [
    {
     "data": {
      "text/plain": [
       "0    20402\n",
       "2     1688\n",
       "3     1683\n",
       "1     1429\n",
       "Name: smokes_code, dtype: int64"
      ]
     },
     "execution_count": 18,
     "metadata": {},
     "output_type": "execute_result"
    }
   ],
   "source": [
    "# map smokes responses to a numeric code:\n",
    "# 0 no\n",
    "# 1 when drinking\n",
    "# 2 sometimes\n",
    "# 3 yes & trying to quit\n",
    "\n",
    "smokes_codes = {\n",
    "    \"no\": 0,\n",
    "    \"when drinking\": 1,\n",
    "    \"sometimes\": 2,\n",
    "    \"yes\": 3,\n",
    "    \"trying to quit\": 3\n",
    "}\n",
    "\n",
    "all_data[\"smokes_code\"] = all_data['smokes'].map(smokes_codes)\n",
    "\n",
    "#check that mapping smokes responses has worked \n",
    "\n",
    "all_data['smokes_code'].value_counts()"
   ]
  },
  {
   "cell_type": "code",
   "execution_count": 19,
   "metadata": {},
   "outputs": [
    {
     "data": {
      "text/plain": [
       "m    15140\n",
       "f    10062\n",
       "Name: sex, dtype: int64"
      ]
     },
     "execution_count": 19,
     "metadata": {},
     "output_type": "execute_result"
    }
   ],
   "source": [
    "#determine value counts for sex\n",
    "all_data['sex'].value_counts()"
   ]
  },
  {
   "cell_type": "code",
   "execution_count": 20,
   "metadata": {},
   "outputs": [
    {
     "data": {
      "text/plain": [
       "0    15140\n",
       "1    10062\n",
       "Name: sex_code, dtype: int64"
      ]
     },
     "execution_count": 20,
     "metadata": {},
     "output_type": "execute_result"
    }
   ],
   "source": [
    "# map sex responses to a numeric code:\n",
    "# 0 for male (m)\n",
    "# 1 for female (f)\n",
    "\n",
    "sex_codes = {\"m\": 0, \"f\": 1}\n",
    "all_data[\"sex_code\"] = all_data['sex'].map(sex_codes)\n",
    "\n",
    "# check that mapping sex responses has worked \n",
    "\n",
    "all_data['sex_code'].value_counts()"
   ]
  },
  {
   "cell_type": "code",
   "execution_count": 21,
   "metadata": {},
   "outputs": [
    {
     "data": {
      "text/plain": [
       "average           6802\n",
       "fit               5742\n",
       "athletic          5366\n",
       "thin              2191\n",
       "curvy             1843\n",
       "a little extra    1312\n",
       "skinny             804\n",
       "full figured       464\n",
       "overweight         227\n",
       "jacked             191\n",
       "used up            182\n",
       "rather not say      78\n",
       "Name: body_type, dtype: int64"
      ]
     },
     "execution_count": 21,
     "metadata": {},
     "output_type": "execute_result"
    }
   ],
   "source": [
    "#determine value counts for body type\n",
    "all_data['body_type'].value_counts()"
   ]
  },
  {
   "cell_type": "code",
   "execution_count": 22,
   "metadata": {},
   "outputs": [],
   "source": [
    "# remove rows where response is \"rather not say\"\n",
    "\n",
    "all_data = all_data.loc[all_data['body_type'] != \"rather not say\",:]"
   ]
  },
  {
   "cell_type": "code",
   "execution_count": 23,
   "metadata": {},
   "outputs": [
    {
     "data": {
      "text/plain": [
       "0     6802\n",
       "1     5742\n",
       "2     5366\n",
       "3     2191\n",
       "4     1843\n",
       "5     1312\n",
       "6      804\n",
       "7      464\n",
       "8      227\n",
       "9      191\n",
       "10     182\n",
       "Name: body_type_code, dtype: int64"
      ]
     },
     "execution_count": 23,
     "metadata": {},
     "output_type": "execute_result"
    }
   ],
   "source": [
    "# map body_type responses to a numeric codes\n",
    "\n",
    "body_type_codes = {\n",
    "    \"average\": 0,\n",
    "    \"fit\": 1,\n",
    "    \"athletic\": 2,\n",
    "    \"thin\": 3,\n",
    "    \"curvy\": 4,\n",
    "    \"a little extra\": 5,\n",
    "    \"skinny\": 6,\n",
    "    \"full figured\": 7,\n",
    "    \"overweight\": 8,\n",
    "    \"jacked\": 9,\n",
    "    \"used up\": 10\n",
    "}\n",
    "\n",
    "all_data[\"body_type_code\"] = all_data['body_type'].map(body_type_codes)\n",
    "\n",
    "#check that mapping smokes responses has worked \n",
    "\n",
    "all_data['body_type_code'].value_counts()"
   ]
  },
  {
   "cell_type": "code",
   "execution_count": 24,
   "metadata": {},
   "outputs": [
    {
     "data": {
      "text/plain": [
       "array(['age', 'body_type', 'diet', 'drinks', 'drugs', 'essay0', 'essay1',\n",
       "       'essay2', 'essay3', 'essay4', 'essay5', 'essay6', 'essay7',\n",
       "       'essay8', 'essay9', 'height', 'sex', 'smokes', 'diet_code',\n",
       "       'drinks_code', 'drugs_code', 'smokes_code', 'sex_code',\n",
       "       'body_type_code'], dtype=object)"
      ]
     },
     "execution_count": 24,
     "metadata": {},
     "output_type": "execute_result"
    }
   ],
   "source": [
    "all_data.columns.values"
   ]
  },
  {
   "cell_type": "code",
   "execution_count": 25,
   "metadata": {},
   "outputs": [],
   "source": [
    "#drop essay columns as they will not be used for project\n",
    "\n",
    "essay_columns_to_drop = [\n",
    "    'essay0',\n",
    "    'essay1',\n",
    "    'essay2',\n",
    "    'essay3',\n",
    "    'essay4',\n",
    "    'essay5',\n",
    "    'essay6',\n",
    "    'essay7',\n",
    "    'essay8',\n",
    "    'essay9'\n",
    "]\n",
    "\n",
    "all_data.drop(essay_columns_to_drop, axis=1, inplace=True)"
   ]
  },
  {
   "cell_type": "code",
   "execution_count": 26,
   "metadata": {},
   "outputs": [
    {
     "data": {
      "text/plain": [
       "array(['age', 'body_type', 'diet', 'drinks', 'drugs', 'height', 'sex',\n",
       "       'smokes', 'diet_code', 'drinks_code', 'drugs_code', 'smokes_code',\n",
       "       'sex_code', 'body_type_code'], dtype=object)"
      ]
     },
     "execution_count": 26,
     "metadata": {},
     "output_type": "execute_result"
    }
   ],
   "source": [
    "all_data.columns.values"
   ]
  },
  {
   "cell_type": "code",
   "execution_count": 27,
   "metadata": {},
   "outputs": [
    {
     "name": "stdout",
     "output_type": "stream",
     "text": [
      "25124\n"
     ]
    }
   ],
   "source": [
    "print(len(all_data))"
   ]
  },
  {
   "cell_type": "code",
   "execution_count": 28,
   "metadata": {},
   "outputs": [
    {
     "data": {
      "text/plain": [
       "age               False\n",
       "body_type         False\n",
       "diet              False\n",
       "drinks            False\n",
       "drugs             False\n",
       "height            False\n",
       "sex               False\n",
       "smokes            False\n",
       "diet_code         False\n",
       "drinks_code       False\n",
       "drugs_code        False\n",
       "smokes_code       False\n",
       "sex_code          False\n",
       "body_type_code    False\n",
       "dtype: bool"
      ]
     },
     "execution_count": 28,
     "metadata": {},
     "output_type": "execute_result"
    }
   ],
   "source": [
    "all_data.isna().any()"
   ]
  },
  {
   "cell_type": "code",
   "execution_count": 29,
   "metadata": {},
   "outputs": [
    {
     "name": "stdout",
     "output_type": "stream",
     "text": [
      "MLR training set score: 0.0454287234876\n",
      "MLR test set score: 0.04273801236\n"
     ]
    }
   ],
   "source": [
    "# build LinearRegression model to predict age\n",
    "\n",
    "from sklearn.model_selection import train_test_split\n",
    "from sklearn.linear_model import LinearRegression\n",
    "from sklearn.preprocessing import scale\n",
    "\n",
    "list_of_features_for_analysis = [\n",
    "    'diet_code',\n",
    "    'drinks_code',\n",
    "    'drugs_code',\n",
    "    'smokes_code',\n",
    "    #'body_type_code',\n",
    "]\n",
    "features = all_data[list_of_features_for_analysis]\n",
    "scaled_features = scale(features, axis=0)\n",
    "age = all_data['age']\n",
    "\n",
    "X_train, X_test, y_train, y_test = train_test_split(scaled_features, age, test_size=0.2, random_state=25)\n",
    "\n",
    "model = LinearRegression()\n",
    "\n",
    "model.fit(X_train, y_train)\n",
    "\n",
    "mlr_training_score = model.score(X_train, y_train)\n",
    "\n",
    "print(\"MLR training set score: %s\" %(mlr_training_score))\n",
    "\n",
    "mlr_test_score = model.score(X_test, y_test)\n",
    "\n",
    "print(\"MLR test set score: %s\" %(mlr_test_score))"
   ]
  },
  {
   "cell_type": "code",
   "execution_count": 30,
   "metadata": {},
   "outputs": [
    {
     "name": "stdout",
     "output_type": "stream",
     "text": [
      "KNR training set score: 0.0570123409856\n",
      "KNR test set score: 0.0487649787324\n"
     ]
    }
   ],
   "source": [
    "#build KNN Regressor to predict age\n",
    "\n",
    "from sklearn.neighbors import KNeighborsRegressor\n",
    "\n",
    "regressor = KNeighborsRegressor(n_neighbors = 50, weights = \"distance\")\n",
    "regressor.fit(X_train, y_train)\n",
    "\n",
    "knr_training_score = regressor.score(X_train, y_train)\n",
    "\n",
    "print(\"KNR training set score: %s\" %(knr_training_score))\n",
    "\n",
    "knr_test_score = regressor.score(X_test, y_test)\n",
    "\n",
    "print(\"KNR test set score: %s\" %(knr_test_score))"
   ]
  },
  {
   "cell_type": "code",
   "execution_count": 31,
   "metadata": {},
   "outputs": [
    {
     "name": "stdout",
     "output_type": "stream",
     "text": [
      "KNN training set score: 0.287924772377\n",
      "KNN test set score: 0.2392039801\n",
      "[[681 291 241  33  54  24  16   1   0   1   1]\n",
      " [534 271 222  41  56   7   5   0   0   1   2]\n",
      " [507 271 200  31  45   5   8   0   3   2   1]\n",
      " [216 110  88  26  17   1   7   0   0   1   1]\n",
      " [179  96  64  11  15   2   3   1   0   1   0]\n",
      " [133  48  48  16   9   3   4   0   0   0   0]\n",
      " [102  20  29   6   6   3   5   0   1   0   1]\n",
      " [ 38  22  11   2   6   0   1   0   0   0   0]\n",
      " [ 21  13   4   2   0   0   0   0   0   2   0]\n",
      " [ 18   8   8   4   0   1   0   0   0   0   0]\n",
      " [ 20   7   4   0   1   1   0   0   1   1   1]]\n",
      "             precision    recall  f1-score   support\n",
      "\n",
      "          0       0.28      0.51      0.36      1343\n",
      "          1       0.23      0.24      0.24      1139\n",
      "          2       0.22      0.19      0.20      1073\n",
      "          3       0.15      0.06      0.08       467\n",
      "          4       0.07      0.04      0.05       372\n",
      "          5       0.06      0.01      0.02       261\n",
      "          6       0.10      0.03      0.05       173\n",
      "          7       0.00      0.00      0.00        80\n",
      "          8       0.00      0.00      0.00        42\n",
      "          9       0.00      0.00      0.00        39\n",
      "         10       0.14      0.03      0.05        36\n",
      "\n",
      "avg / total       0.20      0.24      0.21      5025\n",
      "\n"
     ]
    }
   ],
   "source": [
    "# build KNN model to predict body type\n",
    "\n",
    "list_of_features_classification = [\n",
    "    'diet_code',\n",
    "    'drinks_code',\n",
    "    'drugs_code',\n",
    "    'smokes_code',\n",
    "    'age'\n",
    "]\n",
    "features_classification = all_data[list_of_features_classification]\n",
    "scaled_features_classification = scale(features_classification, axis=0)\n",
    "labels = all_data['body_type_code']\n",
    "\n",
    "train_data, test_data, train_labels, test_labels = train_test_split(scaled_features_classification, labels, test_size=0.2, random_state=40)\n",
    "\n",
    "from sklearn.neighbors import KNeighborsClassifier\n",
    "classifier = KNeighborsClassifier(n_neighbors=5)\n",
    "classifier.fit(train_data, train_labels)\n",
    "\n",
    "knn_training_score = classifier.score(train_data, train_labels)\n",
    "\n",
    "print(\"KNN training set score: %s\" %(knn_training_score))\n",
    "\n",
    "knn_test_score = classifier.score(test_data, test_labels)\n",
    "\n",
    "print(\"KNN test set score: %s\" %(knn_test_score))\n",
    "\n",
    "from sklearn.metrics import classification_report, confusion_matrix \n",
    "knn_predictions = classifier.predict(test_data)\n",
    "print(confusion_matrix(test_labels, knn_predictions))\n",
    "print(classification_report(test_labels, knn_predictions))"
   ]
  },
  {
   "cell_type": "code",
   "execution_count": 34,
   "metadata": {},
   "outputs": [
    {
     "name": "stdout",
     "output_type": "stream",
     "text": [
      "SVC training set score: 0.321359271606\n",
      "SVC test set score: 0.267064676617\n",
      "[[753 320 260   4   1   1   1   1   0   0   2]\n",
      " [554 305 273   3   1   2   0   0   0   0   1]\n",
      " [526 277 265   3   0   0   0   0   0   0   2]\n",
      " [245 127  89   3   0   0   1   0   0   0   2]\n",
      " [212  84  74   1   0   0   1   0   0   0   0]\n",
      " [156  54  46   3   0   2   0   0   0   0   0]\n",
      " [114  22  32   2   2   0   1   0   0   0   0]\n",
      " [ 44  20  16   0   0   0   0   0   0   0   0]\n",
      " [ 23  13   5   0   0   0   0   0   1   0   0]\n",
      " [ 24   7   7   0   0   0   0   0   0   0   1]\n",
      " [ 26   6   3   0   0   0   0   0   0   0   1]]\n",
      "             precision    recall  f1-score   support\n",
      "\n",
      "          0       0.28      0.56      0.37      1343\n",
      "          1       0.25      0.27      0.26      1139\n",
      "          2       0.25      0.25      0.25      1073\n",
      "          3       0.16      0.01      0.01       467\n",
      "          4       0.00      0.00      0.00       372\n",
      "          5       0.40      0.01      0.02       261\n",
      "          6       0.25      0.01      0.01       173\n",
      "          7       0.00      0.00      0.00        80\n",
      "          8       1.00      0.02      0.05        42\n",
      "          9       0.00      0.00      0.00        39\n",
      "         10       0.11      0.03      0.04        36\n",
      "\n",
      "avg / total       0.24      0.26      0.21      5025\n",
      "\n"
     ]
    },
    {
     "name": "stderr",
     "output_type": "stream",
     "text": [
      "/Users/Andrew/anaconda3/lib/python3.6/site-packages/sklearn/metrics/classification.py:1135: UndefinedMetricWarning: Precision and F-score are ill-defined and being set to 0.0 in labels with no predicted samples.\n",
      "  'precision', 'predicted', average, warn_for)\n"
     ]
    }
   ],
   "source": [
    "#build SVM model to predict body type\n",
    "\n",
    "from sklearn.svm import SVC\n",
    "svc_classifier = SVC(kernel='rbf', gamma=10)\n",
    "svc_classifier.fit(train_data, train_labels)\n",
    "\n",
    "svc_training_score = svc_classifier.score(train_data, train_labels)\n",
    "\n",
    "print(\"SVC training set score: %s\" %(svc_training_score))\n",
    "\n",
    "svc_test_score = classifier.score(test_data, test_labels)\n",
    "\n",
    "print(\"SVC test set score: %s\" %(svc_test_score))\n",
    "\n",
    "svc_predictions = svc_classifier.predict(test_data)\n",
    "print(confusion_matrix(test_labels, svc_predictions))\n",
    "print(classification_report(test_labels, svc_predictions))"
   ]
  },
  {
   "cell_type": "code",
   "execution_count": 47,
   "metadata": {},
   "outputs": [
    {
     "name": "stdout",
     "output_type": "stream",
     "text": [
      "average           6802\n",
      "fit               5742\n",
      "athletic          5366\n",
      "thin              2191\n",
      "curvy             1843\n",
      "a little extra    1312\n",
      "skinny             804\n",
      "full figured       464\n",
      "overweight         227\n",
      "jacked             191\n",
      "used up            182\n",
      "dtype: int64\n"
     ]
    },
    {
     "data": {
      "image/png": "[encoded data removed]",
      "text/plain": [
       "<matplotlib.figure.Figure at 0x11c2c5a58>"
      ]
     },
     "metadata": {},
     "output_type": "display_data"
    }
   ],
   "source": [
    "# branding colours\n",
    "\n",
    "light_blue = \"#6fa5d2\"\n",
    "medium_blue = \"#456785\"\n",
    "dark_blue = \"#293748\"\n",
    "\n",
    "#generate bar chart for body types\n",
    "\n",
    "body_type_responses = pd.value_counts(all_data['body_type'].values, sort=True)\n",
    "print(body_type_responses)\n",
    "ax = body_type_responses.plot(kind='bar', title='Body type responses', color=light_blue)\n",
    "ax.set(xlabel='Body type', ylabel='Number of responses')\n",
    "plt.show()"
   ]
  },
  {
   "cell_type": "code",
   "execution_count": 51,
   "metadata": {},
   "outputs": [
    {
     "data": {
      "image/png": "[encoded data removed]",
      "text/plain": [
       "<matplotlib.figure.Figure at 0x10f5934a8>"
      ]
     },
     "metadata": {},
     "output_type": "display_data"
    }
   ],
   "source": [
    "#generate histogram chart for body types\n",
    "\n",
    "plt.hist(all_data['age'], color=light_blue, bins=20)\n",
    "plt.xlabel(\"Age\")\n",
    "plt.ylabel(\"Frequency\")\n",
    "plt.xlim(16, 80)\n",
    "plt.show()\n"
   ]
  },
  {
   "cell_type": "code",
   "execution_count": null,
   "metadata": {},
   "outputs": [],
   "source": []
  }
 ],
 "metadata": {
  "kernelspec": {
   "display_name": "Python 3",
   "language": "python",
   "name": "python3"
  },
  "language_info": {
   "codemirror_mode": {
    "name": "ipython",
    "version": 3
   },
   "file_extension": ".py",
   "mimetype": "text/x-python",
   "name": "python",
   "nbconvert_exporter": "python",
   "pygments_lexer": "ipython3",
   "version": "3.6.4"
  }
 },
 "nbformat": 4,
 "nbformat_minor": 2
}
