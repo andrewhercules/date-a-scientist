{
 "cells": [
  {
   "cell_type": "code",
   "execution_count": 3,
   "metadata": {},
   "outputs": [],
   "source": [
    "#import relevant libraries\n",
    "import pandas as pd\n",
    "from matplotlib import pyplot as plt"
   ]
  },
  {
   "cell_type": "code",
   "execution_count": 13,
   "metadata": {},
   "outputs": [
    {
     "name": "stdout",
     "output_type": "stream",
     "text": [
      "59946\n"
     ]
    }
   ],
   "source": [
    "#import data and check that data has been correctly imported\n",
    "data = pd.read_csv(\"data/profiles.csv\")\n",
    "print(len(data))"
   ]
  },
  {
   "cell_type": "code",
   "execution_count": 5,
   "metadata": {},
   "outputs": [],
   "source": [
    "#set max_columns and max_colwidth to make it easier to see data in DataFrame\n",
    "pd.options.display.max_columns = 60\n",
    "pd.options.display.max_colwidth = 100"
   ]
  },
  {
   "cell_type": "code",
   "execution_count": 6,
   "metadata": {},
   "outputs": [
    {
     "data": {
      "text/html": [
       "<div>\n",
       "<style scoped>\n",
       "    .dataframe tbody tr th:only-of-type {\n",
       "        vertical-align: middle;\n",
       "    }\n",
       "\n",
       "    .dataframe tbody tr th {\n",
       "        vertical-align: top;\n",
       "    }\n",
       "\n",
       "    .dataframe thead th {\n",
       "        text-align: right;\n",
       "    }\n",
       "</style>\n",
       "<table border=\"1\" class=\"dataframe\">\n",
       "  <thead>\n",
       "    <tr style=\"text-align: right;\">\n",
       "      <th></th>\n",
       "      <th>age</th>\n",
       "      <th>body_type</th>\n",
       "      <th>diet</th>\n",
       "      <th>drinks</th>\n",
       "      <th>drugs</th>\n",
       "      <th>education</th>\n",
       "      <th>essay0</th>\n",
       "      <th>essay1</th>\n",
       "      <th>essay2</th>\n",
       "      <th>essay3</th>\n",
       "      <th>essay4</th>\n",
       "      <th>essay5</th>\n",
       "      <th>essay6</th>\n",
       "      <th>essay7</th>\n",
       "      <th>essay8</th>\n",
       "      <th>essay9</th>\n",
       "      <th>ethnicity</th>\n",
       "      <th>height</th>\n",
       "      <th>income</th>\n",
       "      <th>job</th>\n",
       "      <th>last_online</th>\n",
       "      <th>location</th>\n",
       "      <th>offspring</th>\n",
       "      <th>orientation</th>\n",
       "      <th>pets</th>\n",
       "      <th>religion</th>\n",
       "      <th>sex</th>\n",
       "      <th>sign</th>\n",
       "      <th>smokes</th>\n",
       "      <th>speaks</th>\n",
       "      <th>status</th>\n",
       "    </tr>\n",
       "  </thead>\n",
       "  <tbody>\n",
       "    <tr>\n",
       "      <th>0</th>\n",
       "      <td>22</td>\n",
       "      <td>a little extra</td>\n",
       "      <td>strictly anything</td>\n",
       "      <td>socially</td>\n",
       "      <td>never</td>\n",
       "      <td>working on college/university</td>\n",
       "      <td>about me:&lt;br /&gt;\\n&lt;br /&gt;\\ni would love to think that i was some some kind of intellectual:\\neithe...</td>\n",
       "      <td>currently working as an international agent for a freight\\nforwarding company. import, export, d...</td>\n",
       "      <td>making people laugh.&lt;br /&gt;\\nranting about a good salting.&lt;br /&gt;\\nfinding simplicity in complexit...</td>\n",
       "      <td>the way i look. i am a six foot half asian, half caucasian mutt. it\\nmakes it tough not to notic...</td>\n",
       "      <td>books:&lt;br /&gt;\\nabsurdistan, the republic, of mice and men (only book that made me\\nwant to cry), ...</td>\n",
       "      <td>food.&lt;br /&gt;\\nwater.&lt;br /&gt;\\ncell phone.&lt;br /&gt;\\nshelter.</td>\n",
       "      <td>duality and humorous things</td>\n",
       "      <td>trying to find someone to hang out with. i am down for anything\\nexcept a club.</td>\n",
       "      <td>i am new to california and looking for someone to wisper my secrets\\nto.</td>\n",
       "      <td>you want to be swept off your feet!&lt;br /&gt;\\nyou are tired of the norm.&lt;br /&gt;\\nyou want to catch a...</td>\n",
       "      <td>asian, white</td>\n",
       "      <td>75.0</td>\n",
       "      <td>-1</td>\n",
       "      <td>transportation</td>\n",
       "      <td>2012-06-28-20-30</td>\n",
       "      <td>south san francisco, california</td>\n",
       "      <td>doesn&amp;rsquo;t have kids, but might want them</td>\n",
       "      <td>straight</td>\n",
       "      <td>likes dogs and likes cats</td>\n",
       "      <td>agnosticism and very serious about it</td>\n",
       "      <td>m</td>\n",
       "      <td>gemini</td>\n",
       "      <td>sometimes</td>\n",
       "      <td>english</td>\n",
       "      <td>single</td>\n",
       "    </tr>\n",
       "    <tr>\n",
       "      <th>1</th>\n",
       "      <td>35</td>\n",
       "      <td>average</td>\n",
       "      <td>mostly other</td>\n",
       "      <td>often</td>\n",
       "      <td>sometimes</td>\n",
       "      <td>working on space camp</td>\n",
       "      <td>i am a chef: this is what that means.&lt;br /&gt;\\n1. i am a workaholic.&lt;br /&gt;\\n2. i love to cook rega...</td>\n",
       "      <td>dedicating everyday to being an unbelievable badass.</td>\n",
       "      <td>being silly. having ridiculous amonts of fun wherever. being a\\nsmart ass. ohh and i can cook. ;)</td>\n",
       "      <td>NaN</td>\n",
       "      <td>i am die hard christopher moore fan. i don't really watch a lot of\\ntv unless there is humor inv...</td>\n",
       "      <td>delicious porkness in all of its glories.&lt;br /&gt;\\nmy big ass doughboy's sinking into 15 new inche...</td>\n",
       "      <td>NaN</td>\n",
       "      <td>NaN</td>\n",
       "      <td>i am very open and will share just about anything.</td>\n",
       "      <td>NaN</td>\n",
       "      <td>white</td>\n",
       "      <td>70.0</td>\n",
       "      <td>80000</td>\n",
       "      <td>hospitality / travel</td>\n",
       "      <td>2012-06-29-21-41</td>\n",
       "      <td>oakland, california</td>\n",
       "      <td>doesn&amp;rsquo;t have kids, but might want them</td>\n",
       "      <td>straight</td>\n",
       "      <td>likes dogs and likes cats</td>\n",
       "      <td>agnosticism but not too serious about it</td>\n",
       "      <td>m</td>\n",
       "      <td>cancer</td>\n",
       "      <td>no</td>\n",
       "      <td>english (fluently), spanish (poorly), french (poorly)</td>\n",
       "      <td>single</td>\n",
       "    </tr>\n",
       "    <tr>\n",
       "      <th>2</th>\n",
       "      <td>38</td>\n",
       "      <td>thin</td>\n",
       "      <td>anything</td>\n",
       "      <td>socially</td>\n",
       "      <td>NaN</td>\n",
       "      <td>graduated from masters program</td>\n",
       "      <td>i'm not ashamed of much, but writing public text on an online\\ndating site makes me pleasantly u...</td>\n",
       "      <td>i make nerdy software for musicians, artists, and experimenters to\\nindulge in their own weirdne...</td>\n",
       "      <td>improvising in different contexts. alternating between being\\npresent and decidedly outside of a...</td>\n",
       "      <td>my large jaw and large glasses are the physical things people\\ncomment on the most. when suffici...</td>\n",
       "      <td>okay this is where the cultural matrix gets so specific, it's like\\nbeing in the crosshairs.&lt;br ...</td>\n",
       "      <td>movement&lt;br /&gt;\\nconversation&lt;br /&gt;\\ncreation&lt;br /&gt;\\ncontemplation&lt;br /&gt;\\ntouch&lt;br /&gt;\\nhumor</td>\n",
       "      <td>NaN</td>\n",
       "      <td>viewing. listening. dancing. talking. drinking. performing.</td>\n",
       "      <td>when i was five years old, i was known as \"the boogerman\".</td>\n",
       "      <td>you are bright, open, intense, silly, ironic, critical, caring,\\ngenerous, looking for an explor...</td>\n",
       "      <td>NaN</td>\n",
       "      <td>68.0</td>\n",
       "      <td>-1</td>\n",
       "      <td>NaN</td>\n",
       "      <td>2012-06-27-09-10</td>\n",
       "      <td>san francisco, california</td>\n",
       "      <td>NaN</td>\n",
       "      <td>straight</td>\n",
       "      <td>has cats</td>\n",
       "      <td>NaN</td>\n",
       "      <td>m</td>\n",
       "      <td>pisces but it doesn&amp;rsquo;t matter</td>\n",
       "      <td>no</td>\n",
       "      <td>english, french, c++</td>\n",
       "      <td>available</td>\n",
       "    </tr>\n",
       "    <tr>\n",
       "      <th>3</th>\n",
       "      <td>23</td>\n",
       "      <td>thin</td>\n",
       "      <td>vegetarian</td>\n",
       "      <td>socially</td>\n",
       "      <td>NaN</td>\n",
       "      <td>working on college/university</td>\n",
       "      <td>i work in a library and go to school. . .</td>\n",
       "      <td>reading things written by old dead people</td>\n",
       "      <td>playing synthesizers and organizing books according to the library\\nof congress classification s...</td>\n",
       "      <td>socially awkward but i do my best</td>\n",
       "      <td>bataille, celine, beckett. . .&lt;br /&gt;\\nlynch, jarmusch, r.w. fassbender. . .&lt;br /&gt;\\ntwin peaks &amp;a...</td>\n",
       "      <td>NaN</td>\n",
       "      <td>cats and german philosophy</td>\n",
       "      <td>NaN</td>\n",
       "      <td>NaN</td>\n",
       "      <td>you feel so inclined.</td>\n",
       "      <td>white</td>\n",
       "      <td>71.0</td>\n",
       "      <td>20000</td>\n",
       "      <td>student</td>\n",
       "      <td>2012-06-28-14-22</td>\n",
       "      <td>berkeley, california</td>\n",
       "      <td>doesn&amp;rsquo;t want kids</td>\n",
       "      <td>straight</td>\n",
       "      <td>likes cats</td>\n",
       "      <td>NaN</td>\n",
       "      <td>m</td>\n",
       "      <td>pisces</td>\n",
       "      <td>no</td>\n",
       "      <td>english, german (poorly)</td>\n",
       "      <td>single</td>\n",
       "    </tr>\n",
       "    <tr>\n",
       "      <th>4</th>\n",
       "      <td>29</td>\n",
       "      <td>athletic</td>\n",
       "      <td>NaN</td>\n",
       "      <td>socially</td>\n",
       "      <td>never</td>\n",
       "      <td>graduated from college/university</td>\n",
       "      <td>hey how's it going? currently vague on the profile i know, more to\\ncome soon. looking to meet n...</td>\n",
       "      <td>work work work work + play</td>\n",
       "      <td>creating imagery to look at:&lt;br /&gt;\\nhttp://bagsbrown.blogspot.com/&lt;br /&gt;\\nhttp://stayruly.blogsp...</td>\n",
       "      <td>i smile a lot and my inquisitive nature</td>\n",
       "      <td>music: bands, rappers, musicians&lt;br /&gt;\\nat the moment: thee oh sees.&lt;br /&gt;\\nforever: wu-tang&lt;br ...</td>\n",
       "      <td>NaN</td>\n",
       "      <td>NaN</td>\n",
       "      <td>NaN</td>\n",
       "      <td>NaN</td>\n",
       "      <td>NaN</td>\n",
       "      <td>asian, black, other</td>\n",
       "      <td>66.0</td>\n",
       "      <td>-1</td>\n",
       "      <td>artistic / musical / writer</td>\n",
       "      <td>2012-06-27-21-26</td>\n",
       "      <td>san francisco, california</td>\n",
       "      <td>NaN</td>\n",
       "      <td>straight</td>\n",
       "      <td>likes dogs and likes cats</td>\n",
       "      <td>NaN</td>\n",
       "      <td>m</td>\n",
       "      <td>aquarius</td>\n",
       "      <td>no</td>\n",
       "      <td>english</td>\n",
       "      <td>single</td>\n",
       "    </tr>\n",
       "  </tbody>\n",
       "</table>\n",
       "</div>"
      ],
      "text/plain": [
       "   age       body_type               diet    drinks      drugs  \\\n",
       "0   22  a little extra  strictly anything  socially      never   \n",
       "1   35         average       mostly other     often  sometimes   \n",
       "2   38            thin           anything  socially        NaN   \n",
       "3   23            thin         vegetarian  socially        NaN   \n",
       "4   29        athletic                NaN  socially      never   \n",
       "\n",
       "                           education  \\\n",
       "0      working on college/university   \n",
       "1              working on space camp   \n",
       "2     graduated from masters program   \n",
       "3      working on college/university   \n",
       "4  graduated from college/university   \n",
       "\n",
       "                                                                                                essay0  \\\n",
       "0  about me:<br />\\n<br />\\ni would love to think that i was some some kind of intellectual:\\neithe...   \n",
       "1  i am a chef: this is what that means.<br />\\n1. i am a workaholic.<br />\\n2. i love to cook rega...   \n",
       "2  i'm not ashamed of much, but writing public text on an online\\ndating site makes me pleasantly u...   \n",
       "3                                                            i work in a library and go to school. . .   \n",
       "4  hey how's it going? currently vague on the profile i know, more to\\ncome soon. looking to meet n...   \n",
       "\n",
       "                                                                                                essay1  \\\n",
       "0  currently working as an international agent for a freight\\nforwarding company. import, export, d...   \n",
       "1                                                 dedicating everyday to being an unbelievable badass.   \n",
       "2  i make nerdy software for musicians, artists, and experimenters to\\nindulge in their own weirdne...   \n",
       "3                                                            reading things written by old dead people   \n",
       "4                                                                           work work work work + play   \n",
       "\n",
       "                                                                                                essay2  \\\n",
       "0  making people laugh.<br />\\nranting about a good salting.<br />\\nfinding simplicity in complexit...   \n",
       "1    being silly. having ridiculous amonts of fun wherever. being a\\nsmart ass. ohh and i can cook. ;)   \n",
       "2  improvising in different contexts. alternating between being\\npresent and decidedly outside of a...   \n",
       "3  playing synthesizers and organizing books according to the library\\nof congress classification s...   \n",
       "4  creating imagery to look at:<br />\\nhttp://bagsbrown.blogspot.com/<br />\\nhttp://stayruly.blogsp...   \n",
       "\n",
       "                                                                                                essay3  \\\n",
       "0  the way i look. i am a six foot half asian, half caucasian mutt. it\\nmakes it tough not to notic...   \n",
       "1                                                                                                  NaN   \n",
       "2  my large jaw and large glasses are the physical things people\\ncomment on the most. when suffici...   \n",
       "3                                                                    socially awkward but i do my best   \n",
       "4                                                              i smile a lot and my inquisitive nature   \n",
       "\n",
       "                                                                                                essay4  \\\n",
       "0  books:<br />\\nabsurdistan, the republic, of mice and men (only book that made me\\nwant to cry), ...   \n",
       "1  i am die hard christopher moore fan. i don't really watch a lot of\\ntv unless there is humor inv...   \n",
       "2  okay this is where the cultural matrix gets so specific, it's like\\nbeing in the crosshairs.<br ...   \n",
       "3  bataille, celine, beckett. . .<br />\\nlynch, jarmusch, r.w. fassbender. . .<br />\\ntwin peaks &a...   \n",
       "4  music: bands, rappers, musicians<br />\\nat the moment: thee oh sees.<br />\\nforever: wu-tang<br ...   \n",
       "\n",
       "                                                                                                essay5  \\\n",
       "0                                               food.<br />\\nwater.<br />\\ncell phone.<br />\\nshelter.   \n",
       "1  delicious porkness in all of its glories.<br />\\nmy big ass doughboy's sinking into 15 new inche...   \n",
       "2          movement<br />\\nconversation<br />\\ncreation<br />\\ncontemplation<br />\\ntouch<br />\\nhumor   \n",
       "3                                                                                                  NaN   \n",
       "4                                                                                                  NaN   \n",
       "\n",
       "                        essay6  \\\n",
       "0  duality and humorous things   \n",
       "1                          NaN   \n",
       "2                          NaN   \n",
       "3   cats and german philosophy   \n",
       "4                          NaN   \n",
       "\n",
       "                                                                            essay7  \\\n",
       "0  trying to find someone to hang out with. i am down for anything\\nexcept a club.   \n",
       "1                                                                              NaN   \n",
       "2                      viewing. listening. dancing. talking. drinking. performing.   \n",
       "3                                                                              NaN   \n",
       "4                                                                              NaN   \n",
       "\n",
       "                                                                     essay8  \\\n",
       "0  i am new to california and looking for someone to wisper my secrets\\nto.   \n",
       "1                        i am very open and will share just about anything.   \n",
       "2                when i was five years old, i was known as \"the boogerman\".   \n",
       "3                                                                       NaN   \n",
       "4                                                                       NaN   \n",
       "\n",
       "                                                                                                essay9  \\\n",
       "0  you want to be swept off your feet!<br />\\nyou are tired of the norm.<br />\\nyou want to catch a...   \n",
       "1                                                                                                  NaN   \n",
       "2  you are bright, open, intense, silly, ironic, critical, caring,\\ngenerous, looking for an explor...   \n",
       "3                                                                                you feel so inclined.   \n",
       "4                                                                                                  NaN   \n",
       "\n",
       "             ethnicity  height  income                          job  \\\n",
       "0         asian, white    75.0      -1               transportation   \n",
       "1                white    70.0   80000         hospitality / travel   \n",
       "2                  NaN    68.0      -1                          NaN   \n",
       "3                white    71.0   20000                      student   \n",
       "4  asian, black, other    66.0      -1  artistic / musical / writer   \n",
       "\n",
       "        last_online                         location  \\\n",
       "0  2012-06-28-20-30  south san francisco, california   \n",
       "1  2012-06-29-21-41              oakland, california   \n",
       "2  2012-06-27-09-10        san francisco, california   \n",
       "3  2012-06-28-14-22             berkeley, california   \n",
       "4  2012-06-27-21-26        san francisco, california   \n",
       "\n",
       "                                      offspring orientation  \\\n",
       "0  doesn&rsquo;t have kids, but might want them    straight   \n",
       "1  doesn&rsquo;t have kids, but might want them    straight   \n",
       "2                                           NaN    straight   \n",
       "3                       doesn&rsquo;t want kids    straight   \n",
       "4                                           NaN    straight   \n",
       "\n",
       "                        pets                                  religion sex  \\\n",
       "0  likes dogs and likes cats     agnosticism and very serious about it   m   \n",
       "1  likes dogs and likes cats  agnosticism but not too serious about it   m   \n",
       "2                   has cats                                       NaN   m   \n",
       "3                 likes cats                                       NaN   m   \n",
       "4  likes dogs and likes cats                                       NaN   m   \n",
       "\n",
       "                                 sign     smokes  \\\n",
       "0                              gemini  sometimes   \n",
       "1                              cancer         no   \n",
       "2  pisces but it doesn&rsquo;t matter         no   \n",
       "3                              pisces         no   \n",
       "4                            aquarius         no   \n",
       "\n",
       "                                                  speaks     status  \n",
       "0                                                english     single  \n",
       "1  english (fluently), spanish (poorly), french (poorly)     single  \n",
       "2                                   english, french, c++  available  \n",
       "3                               english, german (poorly)     single  \n",
       "4                                                english     single  "
      ]
     },
     "execution_count": 6,
     "metadata": {},
     "output_type": "execute_result"
    }
   ],
   "source": [
    "data.head()"
   ]
  },
  {
   "cell_type": "code",
   "execution_count": 9,
   "metadata": {},
   "outputs": [
    {
     "data": {
      "text/plain": [
       "mostly anything        16585\n",
       "anything                6183\n",
       "strictly anything       5113\n",
       "mostly vegetarian       3444\n",
       "mostly other            1007\n",
       "strictly vegetarian      875\n",
       "vegetarian               667\n",
       "strictly other           452\n",
       "mostly vegan             338\n",
       "other                    331\n",
       "strictly vegan           228\n",
       "vegan                    136\n",
       "mostly kosher             86\n",
       "mostly halal              48\n",
       "strictly halal            18\n",
       "strictly kosher           18\n",
       "kosher                    11\n",
       "halal                     11\n",
       "Name: diet, dtype: int64"
      ]
     },
     "execution_count": 9,
     "metadata": {},
     "output_type": "execute_result"
    }
   ],
   "source": [
    "#explore range of values in diet column\n",
    "data['diet'].value_counts()"
   ]
  },
  {
   "cell_type": "code",
   "execution_count": 8,
   "metadata": {},
   "outputs": [
    {
     "data": {
      "text/plain": [
       "-1          48442\n",
       " 20000       2952\n",
       " 100000      1621\n",
       " 80000       1111\n",
       " 30000       1048\n",
       " 40000       1005\n",
       " 50000        975\n",
       " 60000        736\n",
       " 70000        707\n",
       " 150000       631\n",
       " 1000000      521\n",
       " 250000       149\n",
       " 500000        48\n",
       "Name: income, dtype: int64"
      ]
     },
     "execution_count": 8,
     "metadata": {},
     "output_type": "execute_result"
    }
   ],
   "source": [
    "#explore range of values in income column\n",
    "data['income'].value_counts()"
   ]
  },
  {
   "cell_type": "code",
   "execution_count": 14,
   "metadata": {},
   "outputs": [
    {
     "data": {
      "text/plain": [
       "age       False\n",
       "diet       True\n",
       "drinks     True\n",
       "drugs      True\n",
       "essay0     True\n",
       "essay1     True\n",
       "essay2     True\n",
       "essay3     True\n",
       "essay4     True\n",
       "essay5     True\n",
       "essay6     True\n",
       "essay7     True\n",
       "essay8     True\n",
       "essay9     True\n",
       "income    False\n",
       "smokes     True\n",
       "dtype: bool"
      ]
     },
     "execution_count": 14,
     "metadata": {},
     "output_type": "execute_result"
    }
   ],
   "source": [
    "#drop features from DataFrame and check if remaining features have NaN values - if so, remove them\n",
    "features_to_remove = [\n",
    "    'body_type', \n",
    "    'education', \n",
    "    'ethnicity', \n",
    "    'height', \n",
    "    'job', \n",
    "    'last_online', \n",
    "    'location', \n",
    "    'offspring',\n",
    "    'orientation',\n",
    "    'pets',\n",
    "    'sex', \n",
    "    'sign',\n",
    "    'speaks',\n",
    "    'status',\n",
    "    'religion'\n",
    "]\n",
    "data.drop(features_to_remove, axis=1, inplace=True)\n",
    "data.isna().any()"
   ]
  },
  {
   "cell_type": "code",
   "execution_count": 27,
   "metadata": {},
   "outputs": [
    {
     "name": "stdout",
     "output_type": "stream",
     "text": [
      "59946\n"
     ]
    },
    {
     "data": {
      "text/html": [
       "<div>\n",
       "<style scoped>\n",
       "    .dataframe tbody tr th:only-of-type {\n",
       "        vertical-align: middle;\n",
       "    }\n",
       "\n",
       "    .dataframe tbody tr th {\n",
       "        vertical-align: top;\n",
       "    }\n",
       "\n",
       "    .dataframe thead th {\n",
       "        text-align: right;\n",
       "    }\n",
       "</style>\n",
       "<table border=\"1\" class=\"dataframe\">\n",
       "  <thead>\n",
       "    <tr style=\"text-align: right;\">\n",
       "      <th></th>\n",
       "      <th>diet</th>\n",
       "      <th>income</th>\n",
       "      <th>age</th>\n",
       "    </tr>\n",
       "  </thead>\n",
       "  <tbody>\n",
       "    <tr>\n",
       "      <th>0</th>\n",
       "      <td>strictly anything</td>\n",
       "      <td>-1</td>\n",
       "      <td>22</td>\n",
       "    </tr>\n",
       "    <tr>\n",
       "      <th>1</th>\n",
       "      <td>mostly other</td>\n",
       "      <td>80000</td>\n",
       "      <td>35</td>\n",
       "    </tr>\n",
       "    <tr>\n",
       "      <th>2</th>\n",
       "      <td>anything</td>\n",
       "      <td>-1</td>\n",
       "      <td>38</td>\n",
       "    </tr>\n",
       "    <tr>\n",
       "      <th>3</th>\n",
       "      <td>vegetarian</td>\n",
       "      <td>20000</td>\n",
       "      <td>23</td>\n",
       "    </tr>\n",
       "    <tr>\n",
       "      <th>4</th>\n",
       "      <td>NaN</td>\n",
       "      <td>-1</td>\n",
       "      <td>29</td>\n",
       "    </tr>\n",
       "  </tbody>\n",
       "</table>\n",
       "</div>"
      ],
      "text/plain": [
       "                diet  income  age\n",
       "0  strictly anything      -1   22\n",
       "1       mostly other   80000   35\n",
       "2           anything      -1   38\n",
       "3         vegetarian   20000   23\n",
       "4                NaN      -1   29"
      ]
     },
     "execution_count": 27,
     "metadata": {},
     "output_type": "execute_result"
    }
   ],
   "source": [
    "#create DataFrame with just diet and income columns from original DataFrame\n",
    "income_diet_age_df = data[['diet', 'income', 'age']].copy()\n",
    "print(len(income_diet_age_df))\n",
    "income_diet_df.head()"
   ]
  },
  {
   "cell_type": "code",
   "execution_count": 28,
   "metadata": {},
   "outputs": [
    {
     "data": {
      "text/plain": [
       "diet       True\n",
       "income    False\n",
       "age       False\n",
       "dtype: bool"
      ]
     },
     "execution_count": 28,
     "metadata": {},
     "output_type": "execute_result"
    }
   ],
   "source": [
    "#check if either diet or income column have NaN values and drop\n",
    "income_diet_age_df.isna().any()"
   ]
  },
  {
   "cell_type": "code",
   "execution_count": 34,
   "metadata": {},
   "outputs": [
    {
     "name": "stdout",
     "output_type": "stream",
     "text": [
      "35551\n"
     ]
    },
    {
     "data": {
      "text/plain": [
       "diet      False\n",
       "income    False\n",
       "age       False\n",
       "dtype: bool"
      ]
     },
     "execution_count": 34,
     "metadata": {},
     "output_type": "execute_result"
    }
   ],
   "source": [
    "#drop NaN values in diet column\n",
    "income_diet_age_df_no_nan = income_diet_age_df.dropna(subset=['diet'])\n",
    "print(len(income_diet_df_no_nan))\n",
    "income_diet_age_df_no_nan.isna().any()"
   ]
  },
  {
   "cell_type": "code",
   "execution_count": 31,
   "metadata": {},
   "outputs": [
    {
     "data": {
      "text/plain": [
       "-1          28086\n",
       " 20000       2003\n",
       " 100000      1047\n",
       " 80000        712\n",
       " 30000        661\n",
       " 40000        647\n",
       " 50000        592\n",
       " 70000        446\n",
       " 60000        442\n",
       " 150000       407\n",
       " 1000000      377\n",
       " 250000        96\n",
       " 500000        35\n",
       "Name: income, dtype: int64"
      ]
     },
     "execution_count": 31,
     "metadata": {},
     "output_type": "execute_result"
    }
   ],
   "source": [
    "income_diet_age_df_no_nan['income'].value_counts()"
   ]
  },
  {
   "cell_type": "code",
   "execution_count": 35,
   "metadata": {},
   "outputs": [
    {
     "name": "stdout",
     "output_type": "stream",
     "text": [
      "7465\n"
     ]
    }
   ],
   "source": [
    "#drop rows where income value is -1\n",
    "income_diet_age_df_cleaned = income_diet_age_df_no_nan[income_diet_age_df_no_nan.income != -1]\n",
    "print(len(income_diet_age_df_cleaned))"
   ]
  },
  {
   "cell_type": "code",
   "execution_count": 38,
   "metadata": {},
   "outputs": [
    {
     "name": "stderr",
     "output_type": "stream",
     "text": [
      "/Users/Andrew/anaconda3/lib/python3.6/site-packages/ipykernel_launcher.py:10: SettingWithCopyWarning: \n",
      "A value is trying to be set on a copy of a slice from a DataFrame.\n",
      "Try using .loc[row_indexer,col_indexer] = value instead\n",
      "\n",
      "See the caveats in the documentation: http://pandas.pydata.org/pandas-docs/stable/indexing.html#indexing-view-versus-copy\n",
      "  # Remove the CWD from sys.path while we load stuff.\n"
     ]
    },
    {
     "data": {
      "text/plain": [
       "3    6384\n",
       "2     911\n",
       "1     170\n",
       "Name: diet_code, dtype: int64"
      ]
     },
     "execution_count": 38,
     "metadata": {},
     "output_type": "execute_result"
    }
   ],
   "source": [
    "#map different diets to three diet codes - 1 for anything vegan, 2 for anything vegetarian, and 3 for all other diet types\n",
    "def diet_mappings(diet):\n",
    "    if \"vegan\" in diet:\n",
    "        return 1\n",
    "    elif \"vegetarian\" in diet:\n",
    "        return 2\n",
    "    else:\n",
    "        return 3\n",
    "\n",
    "income_diet_age_df_cleaned['diet_code'] = income_diet_age_df_cleaned['diet'].apply(diet_mappings)\n",
    "income_diet_age_df_cleaned['diet_code'].value_counts()"
   ]
  },
  {
   "cell_type": "code",
   "execution_count": 49,
   "metadata": {},
   "outputs": [],
   "source": [
    "#Based on above error - and research on StackOverflow - have opted to create a copy of the DataFrame and assign diet_mappings to copy\n",
    "analysis_df = income_diet_age_df_cleaned.copy()\n",
    "analysis_df['diet_code'] = income_diet_age_df_cleaned['diet'].apply(diet_mappings)"
   ]
  },
  {
   "cell_type": "code",
   "execution_count": 50,
   "metadata": {},
   "outputs": [
    {
     "name": "stdout",
     "output_type": "stream",
     "text": [
      "7465\n",
      "7465\n"
     ]
    }
   ],
   "source": [
    "print(len(analysis_df))\n",
    "print(len(income_diet_age_df_cleaned))"
   ]
  },
  {
   "cell_type": "code",
   "execution_count": 51,
   "metadata": {},
   "outputs": [
    {
     "name": "stdout",
     "output_type": "stream",
     "text": [
      "[ 0.31279478 -0.1373401 ]\n"
     ]
    }
   ],
   "source": [
    "#scale data to prevent analysis issues\n",
    "from sklearn.preprocessing import scale\n",
    "analysis_data = analysis_df[['age', 'income']]\n",
    "scaled_data = scale(analysis_data, axis=0)\n",
    "print(scaled_data[0])"
   ]
  },
  {
   "cell_type": "code",
   "execution_count": 52,
   "metadata": {},
   "outputs": [],
   "source": [
    "#Set labels using diet_code values\n",
    "labels = analysis_df['diet_code']"
   ]
  },
  {
   "cell_type": "code",
   "execution_count": 54,
   "metadata": {},
   "outputs": [],
   "source": [
    "#Split data into training and test sets using recommended 80/20 split\n",
    "from sklearn.model_selection import train_test_split\n",
    "train_data, test_data, train_labels, test_labels = train_test_split(scaled_data, labels, test_size=0.2, random_state=5)"
   ]
  },
  {
   "cell_type": "code",
   "execution_count": 55,
   "metadata": {},
   "outputs": [
    {
     "name": "stdout",
     "output_type": "stream",
     "text": [
      "0.851975887475\n"
     ]
    }
   ],
   "source": [
    "#Import KNeighborsClassifier and create a classifier based on n_neighbors = 10\n",
    "from sklearn.neighbors import KNeighborsClassifier\n",
    "classifier = KNeighborsClassifier(n_neighbors=10)\n",
    "classifier.fit(train_data, train_labels)\n",
    "score = classifier.score(test_data, test_labels)\n",
    "print(score)"
   ]
  },
  {
   "cell_type": "code",
   "execution_count": 62,
   "metadata": {},
   "outputs": [
    {
     "data": {
      "image/png": "[encoded data removed]",
      "text/plain": [
       "<matplotlib.figure.Figure at 0x1103de240>"
      ]
     },
     "metadata": {},
     "output_type": "display_data"
    },
    {
     "name": "stdout",
     "output_type": "stream",
     "text": [
      "{'k': 18, 'score': 0.85666443402545212}\n"
     ]
    }
   ],
   "source": [
    "#Generate plot showing KNeighborsClassifier score based on different n_neighbors values and print out n_neighbors value that results in highest score\n",
    "scores = []\n",
    "highest_score = {\n",
    "    'k': 0,\n",
    "    'score': 0\n",
    "}\n",
    "\n",
    "for k in range(1, 101):\n",
    "    classifier = KNeighborsClassifier(n_neighbors=k)\n",
    "    classifier.fit(train_data, train_labels)\n",
    "    score = classifier.score(test_data, test_labels)\n",
    "    scores.append(score)\n",
    "    if score > highest_score['score']:\n",
    "        highest_score = {\n",
    "            'k': k,\n",
    "            'score': score\n",
    "        }\n",
    "\n",
    "x_values = range(1, 101)\n",
    "y_values = scores\n",
    "\n",
    "plt.plot(x_values, y_values)\n",
    "plt.title('Accuracy of KMeans based on different k values')\n",
    "plt.ylabel('Accuracy')\n",
    "plt.xlabel('k value')\n",
    "plt.show()\n",
    "print(highest_score)"
   ]
  },
  {
   "cell_type": "code",
   "execution_count": 63,
   "metadata": {},
   "outputs": [
    {
     "data": {
      "image/png": "[encoded data removed]",
      "text/plain": [
       "<matplotlib.figure.Figure at 0x1103deda0>"
      ]
     },
     "metadata": {},
     "output_type": "display_data"
    }
   ],
   "source": [
    "plt.hist(analysis_df.age, bins=20)\n",
    "plt.xlabel(\"Age\")\n",
    "plt.ylabel(\"Frequency\")\n",
    "plt.xlim(0, 80)\n",
    "plt.show()"
   ]
  },
  {
   "cell_type": "code",
   "execution_count": null,
   "metadata": {},
   "outputs": [],
   "source": [
    "plt.hist(analysis_df.diet_code, bins=20)\n",
    "plt.xlabel(\"\")\n",
    "plt.ylabel(\"Frequency\")\n",
    "plt.xlim(0, 80)\n",
    "plt.show()"
   ]
  }
 ],
 "metadata": {
  "kernelspec": {
   "display_name": "Python 3",
   "language": "python",
   "name": "python3"
  },
  "language_info": {
   "codemirror_mode": {
    "name": "ipython",
    "version": 3
   },
   "file_extension": ".py",
   "mimetype": "text/x-python",
   "name": "python",
   "nbconvert_exporter": "python",
   "pygments_lexer": "ipython3",
   "version": "3.6.4"
  }
 },
 "nbformat": 4,
 "nbformat_minor": 2
}
